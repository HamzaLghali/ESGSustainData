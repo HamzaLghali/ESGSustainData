{
 "cells": [
  {
   "cell_type": "code",
   "execution_count": 1,
   "id": "initial_id",
   "metadata": {
    "collapsed": true,
    "ExecuteTime": {
     "end_time": "2024-12-02T08:39:37.265821Z",
     "start_time": "2024-12-02T08:39:25.170290Z"
    }
   },
   "outputs": [],
   "source": [
    "from pyspark.sql import SparkSession\n",
    "from pyspark.sql.functions import  when,col, split, substring, coalesce,regexp_replace\n",
    "\n",
    "#Initialize SparkSession\n",
    "spark = SparkSession.builder \\\n",
    "    .appName(\"PySparkESG\") \\\n",
    "    .getOrCreate()"
   ]
  },
  {
   "cell_type": "markdown",
   "source": [
    "# BRONZE LAYER"
   ],
   "metadata": {
    "collapsed": false
   },
   "id": "5dae6ae849d07ff5"
  },
  {
   "cell_type": "markdown",
   "source": [
    "### Data extraction from csv files"
   ],
   "metadata": {
    "collapsed": false
   },
   "id": "a4c1e1aec9c7bb93"
  },
  {
   "cell_type": "markdown",
   "source": [],
   "metadata": {
    "collapsed": false
   },
   "id": "1b157811274568d7"
  },
  {
   "cell_type": "code",
   "outputs": [],
   "source": [
    "countries = spark.read.option(\"header\", \"true\").csv(\"ESG_Data/ESGCountry.csv\").cache()"
   ],
   "metadata": {
    "collapsed": false,
    "ExecuteTime": {
     "end_time": "2024-12-02T08:39:49.066147Z",
     "start_time": "2024-12-02T08:39:37.271116Z"
    }
   },
   "id": "c63912f4d1ee3963",
   "execution_count": 2
  },
  {
   "cell_type": "code",
   "outputs": [],
   "source": [
    "countries_series = spark.read.option(\"header\", \"true\").csv(\"ESG_Data/ESGCountry-series.csv\").cache()"
   ],
   "metadata": {
    "collapsed": false,
    "ExecuteTime": {
     "end_time": "2024-12-02T08:39:49.595545Z",
     "start_time": "2024-12-02T08:39:49.068673Z"
    }
   },
   "id": "7859dd0521eda3a0",
   "execution_count": 3
  },
  {
   "cell_type": "code",
   "outputs": [],
   "source": [
    "esg_data = spark.read.option(\"header\", \"true\").csv(\"ESG_Data/ESGCSV.csv\").cache()"
   ],
   "metadata": {
    "collapsed": false,
    "ExecuteTime": {
     "end_time": "2024-12-02T08:39:50.042842Z",
     "start_time": "2024-12-02T08:39:49.599666Z"
    }
   },
   "id": "adb38b69227e8822",
   "execution_count": 4
  },
  {
   "cell_type": "code",
   "outputs": [],
   "source": [
    "footnote = spark.read.option(\"header\", \"true\").csv(\"ESG_Data/ESGfootnote.csv\").cache()"
   ],
   "metadata": {
    "collapsed": false,
    "ExecuteTime": {
     "end_time": "2024-12-02T08:39:50.338087Z",
     "start_time": "2024-12-02T08:39:50.044851Z"
    }
   },
   "id": "4c34120c57486710",
   "execution_count": 5
  },
  {
   "cell_type": "code",
   "outputs": [],
   "source": [
    "series = spark.read.option(\"header\",\"true\").csv(\"ESG_Data/ESGSeries.csv\").cache()"
   ],
   "metadata": {
    "collapsed": false,
    "ExecuteTime": {
     "end_time": "2024-12-02T08:39:50.585411Z",
     "start_time": "2024-12-02T08:39:50.340532Z"
    }
   },
   "id": "d9237163f3045fb3",
   "execution_count": 6
  },
  {
   "cell_type": "code",
   "outputs": [],
   "source": [
    "series_time = spark.read.option(\"header\",\"true\").csv(\"ESG_Data/ESGSeries-time.csv\").cache()"
   ],
   "metadata": {
    "collapsed": false,
    "ExecuteTime": {
     "end_time": "2024-12-02T08:39:50.812955Z",
     "start_time": "2024-12-02T08:39:50.585411Z"
    }
   },
   "id": "3592eb8111e4197e",
   "execution_count": 7
  },
  {
   "cell_type": "markdown",
   "source": [
    "### Ingestion into bronze"
   ],
   "metadata": {
    "collapsed": false
   },
   "id": "839a5cf1a4ccb76d"
  },
  {
   "cell_type": "markdown",
   "source": [
    "##### Bronze Countries "
   ],
   "metadata": {
    "collapsed": false
   },
   "id": "52b01bca7ef36bf3"
  },
  {
   "cell_type": "code",
   "outputs": [],
   "source": [
    "countries=(countries.select(\"Country Code\",\"Table Name\",\"Region\",\"Income Group\")\n",
    "            )\n",
    "bronze_countries=(countries.select([col(c).alias(c.replace(\" \", \"\").replace(\"-\", \"\")) for c in countries.columns])).cache()"
   ],
   "metadata": {
    "collapsed": false,
    "ExecuteTime": {
     "end_time": "2024-12-02T08:39:51.040637Z",
     "start_time": "2024-12-02T08:39:50.812955Z"
    }
   },
   "id": "a15ab6023c3b2709",
   "execution_count": 8
  },
  {
   "cell_type": "markdown",
   "source": [
    "##### Bronze Countries Series"
   ],
   "metadata": {
    "collapsed": false
   },
   "id": "c505de03da7c8d37"
  },
  {
   "cell_type": "code",
   "outputs": [],
   "source": [
    "countries_series=(countries_series.select(\"CountryCode\",\"SeriesCode\",\"DESCRIPTION\"))\n",
    "\n",
    "bronze_countries_series=(countries_series.select([col(c).alias(c.replace(\" \", \"\").replace(\"-\", \"\")) for c in countries_series.columns])).withColumnRenamed(\"DESCRIPTION\",\"CountrySerieDescription\").cache()"
   ],
   "metadata": {
    "collapsed": false,
    "ExecuteTime": {
     "end_time": "2024-12-02T08:39:51.111103Z",
     "start_time": "2024-12-02T08:39:51.042456Z"
    }
   },
   "id": "f78b713c75656b9c",
   "execution_count": 9
  },
  {
   "cell_type": "markdown",
   "source": [
    "##### Bronze Footnote"
   ],
   "metadata": {
    "collapsed": false
   },
   "id": "45dc79d950ce6b67"
  },
  {
   "cell_type": "code",
   "outputs": [],
   "source": [
    "bronze_footnote=(footnote.select(\"CountryCode\",\"SeriesCode\",\"Year\").withColumnRenamed(\"Year\",\"FootNoteYear\")).cache()"
   ],
   "metadata": {
    "collapsed": false,
    "ExecuteTime": {
     "end_time": "2024-12-02T08:39:51.159318Z",
     "start_time": "2024-12-02T08:39:51.116110Z"
    }
   },
   "id": "35f8393f6949069f",
   "execution_count": 10
  },
  {
   "cell_type": "markdown",
   "source": [
    "##### Bronze Esg Data"
   ],
   "metadata": {
    "collapsed": false
   },
   "id": "517ca3e72601441e"
  },
  {
   "cell_type": "code",
   "outputs": [],
   "source": [
    "esg_data=esg_data.drop(\"Indicator Name\")\n",
    "bronze_esg=(esg_data.select([col(c).alias(c.replace(\" \", \"\").replace(\"-\", \"\")) for c in esg_data.columns])).cache()"
   ],
   "metadata": {
    "collapsed": false,
    "ExecuteTime": {
     "end_time": "2024-12-02T08:39:51.545267Z",
     "start_time": "2024-12-02T08:39:51.161651Z"
    }
   },
   "id": "b6f5f599ea3c75b3",
   "execution_count": 11
  },
  {
   "cell_type": "markdown",
   "source": [
    "##### Bronze Series"
   ],
   "metadata": {
    "collapsed": false
   },
   "id": "22974a92f8fd341a"
  },
  {
   "cell_type": "code",
   "outputs": [],
   "source": [
    "series =(series.select(\"Series Code\",\"Indicator Name\",\"Topic\",\"Source\",\"Long definition\"))\n",
    "bronze_series=(series.select([col(c).alias(c.replace(\" \", \"\").replace(\"-\", \"\")) for c in series.columns])).cache()"
   ],
   "metadata": {
    "collapsed": false,
    "ExecuteTime": {
     "end_time": "2024-12-02T08:39:51.630784Z",
     "start_time": "2024-12-02T08:39:51.546786Z"
    }
   },
   "id": "75df9bbd3213ace5",
   "execution_count": 12
  },
  {
   "cell_type": "markdown",
   "source": [
    "##### Bronze series time"
   ],
   "metadata": {
    "collapsed": false
   },
   "id": "bdb6fd38352df016"
  },
  {
   "cell_type": "code",
   "outputs": [],
   "source": [
    "series_time = series_time.select(\"SeriesCode\",\"Year\",\"DESCRIPTION\")\n",
    "\n",
    "bronze_series_time= (series_time.select([col(c).alias(c.replace(\" \", \"\").replace(\"-\", \"\")) for c in series_time.columns]).withColumnRenamed(\"DESCRIPTION\",\"SeriesTimesDescription\").withColumnRenamed(\"Year\",\"SeriesTimeYear\")).cache()\n"
   ],
   "metadata": {
    "collapsed": false,
    "ExecuteTime": {
     "end_time": "2024-12-02T08:39:51.712087Z",
     "start_time": "2024-12-02T08:39:51.632821Z"
    }
   },
   "id": "14816c2f2570f0ac",
   "execution_count": 13
  },
  {
   "cell_type": "markdown",
   "source": [
    "# SILVER LAYER"
   ],
   "metadata": {
    "collapsed": false
   },
   "id": "804b95cf588a9460"
  },
  {
   "cell_type": "markdown",
   "source": [
    "##### Silver Countries and Country Series"
   ],
   "metadata": {
    "collapsed": false
   },
   "id": "107d8369ddb6aec"
  },
  {
   "cell_type": "code",
   "outputs": [],
   "source": [
    "SilverCountry = (bronze_countries\n",
    "                 .dropDuplicates() \n",
    "                 .withColumn(\"Region\", when(col(\"Region\").isNull(), \"UnknownRegion\")\n",
    "                                       .otherwise(col(\"Region\")))  \n",
    "                 .withColumnRenamed(\"TableName\",\"CountryName\")\n",
    "                 .withColumn(\"IncomeGroup\", when(col(\"IncomeGroup\").isNull(), \"Unknown Income Group\")\n",
    "                                       .otherwise(col(\"IncomeGroup\")))  \n",
    "                 .withColumn(\"CountryName\", regexp_replace(col(\"CountryName\"),\"[,\\\\.]\",\"\"))\n",
    "                )\n"
   ],
   "metadata": {
    "collapsed": false,
    "ExecuteTime": {
     "end_time": "2024-12-02T08:39:51.812650Z",
     "start_time": "2024-12-02T08:39:51.714945Z"
    }
   },
   "id": "6e9e63a2809d66a3",
   "execution_count": 14
  },
  {
   "cell_type": "code",
   "outputs": [],
   "source": [
    "SilverCountrySeries= (bronze_countries_series\n",
    "                      .join(bronze_esg,on=\"CountryCode\",how=\"inner\")\n",
    "                      .select(bronze_countries_series[\"*\"])\n",
    "                      .dropDuplicates()).cache()"
   ],
   "metadata": {
    "collapsed": false,
    "ExecuteTime": {
     "end_time": "2024-12-02T08:39:52.161551Z",
     "start_time": "2024-12-02T08:39:51.814659Z"
    }
   },
   "id": "82417ae3780d915e",
   "execution_count": 15
  },
  {
   "cell_type": "markdown",
   "source": [
    "##### Silver Footnote"
   ],
   "metadata": {
    "collapsed": false
   },
   "id": "f616d2a3e491429f"
  },
  {
   "cell_type": "code",
   "outputs": [],
   "source": [
    "SilverFootNote=(bronze_footnote.dropDuplicates()\n",
    "                .withColumn(\"FootNoteYear\", substring(col(\"FootNoteYear\"),3,4))\n",
    "                ).cache()"
   ],
   "metadata": {
    "collapsed": false,
    "ExecuteTime": {
     "end_time": "2024-12-02T08:39:52.225932Z",
     "start_time": "2024-12-02T08:39:52.163560Z"
    }
   },
   "id": "4cfd1978e3bb624f",
   "execution_count": 16
  },
  {
   "cell_type": "markdown",
   "source": [
    "##### Silver Time and Time Series"
   ],
   "metadata": {
    "collapsed": false
   },
   "id": "611bc25b03954611"
  },
  {
   "cell_type": "code",
   "outputs": [],
   "source": [
    "SilverSeries= (bronze_series\n",
    "             .dropDuplicates()\n",
    "             .withColumn(\"MainCategory\", split(col(\"Topic\"), \": \")[0])\n",
    "             .withColumn(\"SubCategory\", split(col(\"Topic\"), \": \")[1])\n",
    "             \n",
    "               ).cache()"
   ],
   "metadata": {
    "collapsed": false,
    "ExecuteTime": {
     "end_time": "2024-12-02T08:39:52.310746Z",
     "start_time": "2024-12-02T08:39:52.227941Z"
    }
   },
   "id": "437743f51e5cd05f",
   "execution_count": 17
  },
  {
   "cell_type": "code",
   "outputs": [],
   "source": [
    "SilverSeriesTime=(bronze_series_time\n",
    "                  .dropDuplicates()\n",
    "                \n",
    "                  ).cache()"
   ],
   "metadata": {
    "collapsed": false,
    "ExecuteTime": {
     "end_time": "2024-12-02T08:39:52.349453Z",
     "start_time": "2024-12-02T08:39:52.313759Z"
    }
   },
   "id": "f227d17035e46fdb",
   "execution_count": 18
  },
  {
   "cell_type": "markdown",
   "source": [
    "##### Esg Data"
   ],
   "metadata": {
    "collapsed": false
   },
   "id": "3c110cc543cd8a4f"
  },
  {
   "cell_type": "code",
   "outputs": [],
   "source": [
    "SilverEsgData = (\n",
    "    bronze_esg\n",
    "    .join(\n",
    "        bronze_series,\n",
    "        bronze_esg[\"IndicatorCode\"] == bronze_series[\"SeriesCode\"],\n",
    "        how=\"inner\"\n",
    "    )\n",
    "    .selectExpr(\n",
    "        \"`CountryCode`\",\n",
    "        \"`IndicatorCode`\",\n",
    "        f\"stack({2023 - 1990 + 1}, \" +\n",
    "        \", \".join([f\"'{year}', `{year}`\" for year in range(1990, 2024)]) +\n",
    "        \") as (Year, Value)\"\n",
    "    )\n",
    "    .withColumn(\"EsgYear\", col(\"Year\").cast(\"int\"))\n",
    "    .drop(\"Year\")\n",
    "    .withColumn(\"Value\", col(\"Value\").cast(\"float\"))\n",
    "    .withColumn(\n",
    "        \"Value\",\n",
    "        when(col(\"Value\").isNull(), \"Unknown Value\").otherwise(col(\"Value\"))\n",
    "    )\n",
    "    .withColumn(\"Value\", col(\"Value\").cast(\"double\"))\n",
    "    # .join(\n",
    "    #     SilverFootNote,\n",
    "    #     (bronze_esg[\"IndicatorCode\"] == SilverFootNote[\"SeriesCode\"]) &\n",
    "    #     (bronze_esg[\"CountryCode\"] == SilverFootNote[\"CountryCode\"]),\n",
    "    #     how=\"left\"\n",
    "    # )\n",
    "    # .withColumn(\n",
    "    # \"FootNoteYear\",\n",
    "    # when(col(\"FootNoteYear\").isNull(), \"No Footnote\").otherwise(col(\"FootNoteYear\")))\n",
    ")\n",
    "\n",
    "#SilverEsgData.show()\n"
   ],
   "metadata": {
    "collapsed": false,
    "ExecuteTime": {
     "end_time": "2024-12-02T08:39:52.702887Z",
     "start_time": "2024-12-02T08:39:52.351464Z"
    }
   },
   "id": "97c5181268db78",
   "execution_count": 19
  },
  {
   "cell_type": "markdown",
   "source": [
    "# GOLD LAYER"
   ],
   "metadata": {
    "collapsed": false
   },
   "id": "f0644b6165993a1c"
  },
  {
   "cell_type": "markdown",
   "source": [
    "### I this section i'm going to create a dimensional model of this use case in order to organize my data more"
   ],
   "metadata": {
    "collapsed": false
   },
   "id": "3c13f1a7ffd9a1a"
  },
  {
   "cell_type": "code",
   "outputs": [
    {
     "name": "stdout",
     "output_type": "stream",
     "text": [
      "root\n",
      " |-- CountryCode: string (nullable = true)\n",
      " |-- IndicatorCode: string (nullable = true)\n",
      " |-- Value: double (nullable = true)\n",
      " |-- EsgYear: integer (nullable = true)\n"
     ]
    }
   ],
   "source": [
    "SilverEsgData.printSchema()"
   ],
   "metadata": {
    "collapsed": false,
    "ExecuteTime": {
     "end_time": "2024-12-02T08:39:52.716145Z",
     "start_time": "2024-12-02T08:39:52.704896Z"
    }
   },
   "id": "6ffdfa80c11d2730",
   "execution_count": 20
  },
  {
   "cell_type": "markdown",
   "source": [
    "Renewable energy consumption (% of total final energy consumption)"
   ],
   "metadata": {
    "collapsed": false
   },
   "id": "fcde61963d742209"
  },
  {
   "cell_type": "code",
   "outputs": [],
   "source": [
    "FactESG = (SilverEsgData.withColumnRenamed(\"IndicatorCode\",\"SeriesCode\")\n",
    "           # .join(SilverFootNote, (SilverEsgData[\"CountryCode\"]==SilverFootNote[\"CountryCode\"])&(SilverEsgData[\"IndicatorCode\"]==SilverFootNote[\"SeriesCode\"]))\n",
    "           ).cache()\n",
    "\n"
   ],
   "metadata": {
    "collapsed": false,
    "ExecuteTime": {
     "end_time": "2024-12-02T08:39:52.976066Z",
     "start_time": "2024-12-02T08:39:52.717897Z"
    }
   },
   "id": "74b2e0caf7b0597c",
   "execution_count": 21
  },
  {
   "cell_type": "markdown",
   "source": [
    "Country Dimension"
   ],
   "metadata": {
    "collapsed": false
   },
   "id": "1e9ea0f173f75ba"
  },
  {
   "cell_type": "code",
   "outputs": [],
   "source": [
    "DimCountry = (SilverCountry.select(\"*\")).cache()\n"
   ],
   "metadata": {
    "collapsed": false,
    "ExecuteTime": {
     "end_time": "2024-12-02T08:39:53.051937Z",
     "start_time": "2024-12-02T08:39:52.977076Z"
    }
   },
   "id": "fd293c1648b79c4a",
   "execution_count": 22
  },
  {
   "cell_type": "markdown",
   "source": [
    "Indicator Dimension"
   ],
   "metadata": {
    "collapsed": false
   },
   "id": "241ddd746f7a3266"
  },
  {
   "cell_type": "code",
   "outputs": [],
   "source": [
    "DimIndicator = (SilverSeries.select(\"SeriesCode\",\"IndicatorName\",\"Topic\",\"MainCategory\",\"SubCategory\",\"Source\",\"Longdefinition\")).cache()"
   ],
   "metadata": {
    "collapsed": false,
    "ExecuteTime": {
     "end_time": "2024-12-02T08:39:53.113156Z",
     "start_time": "2024-12-02T08:39:53.056122Z"
    }
   },
   "id": "b361635a02e111a7",
   "execution_count": 23
  },
  {
   "cell_type": "code",
   "outputs": [],
   "source": [
    "#DimIndicator.select(\"IndicatorName\").distinct().show(truncate=False)"
   ],
   "metadata": {
    "collapsed": false,
    "ExecuteTime": {
     "end_time": "2024-12-02T08:39:53.121963Z",
     "start_time": "2024-12-02T08:39:53.115169Z"
    }
   },
   "id": "ed606fc870e4739d",
   "execution_count": 24
  },
  {
   "cell_type": "markdown",
   "source": [
    "Countries Series Dimension"
   ],
   "metadata": {
    "collapsed": false
   },
   "id": "37faabc18d13272c"
  },
  {
   "cell_type": "code",
   "outputs": [],
   "source": [
    "DimCountrySeries =(SilverCountrySeries.select(\"CountryCode\",\"SeriesCode\",\"CountrySerieDescription\")).cache()"
   ],
   "metadata": {
    "collapsed": false,
    "ExecuteTime": {
     "end_time": "2024-12-02T08:39:53.177835Z",
     "start_time": "2024-12-02T08:39:53.123972Z"
    }
   },
   "id": "6d98ddf994f81176",
   "execution_count": 25
  },
  {
   "cell_type": "code",
   "outputs": [],
   "source": [],
   "metadata": {
    "collapsed": false,
    "ExecuteTime": {
     "end_time": "2024-12-02T08:39:53.190348Z",
     "start_time": "2024-12-02T08:39:53.179846Z"
    }
   },
   "id": "219bd8589382b26",
   "execution_count": 25
  },
  {
   "cell_type": "code",
   "outputs": [],
   "source": [
    "RenewableEnergyEurope= (\n",
    "    \n",
    "    FactESG.join(DimIndicator,on=\"SeriesCode\", how=\"inner\").drop(DimIndicator[\"SeriesCode\"])\n",
    "    .join(DimCountry,on=\"CountryCode\",how=\"inner\").drop(DimCountry[\"CountryCode\"])\n",
    "    .join(DimCountrySeries, on=\"CountryCode\",how=\"inner\").drop(DimCountrySeries[\"CountryCode\"]).drop(DimCountrySeries[\"SeriesCode\"])\n",
    "    .where( (col(\"MainCategory\")==\"Environment\")&(col(\"IndicatorName\")==\"Renewable energy consumption (% of total final energy consumption)\"))\n",
    "    .filter(col(\"CountryName\").isin(\"Morocco\",\"Netherlands\",\"France\"))\n",
    "    \n",
    "    \n",
    ")\n",
    "\n",
    "\n",
    "RenewableEnergyMena= (\n",
    "    \n",
    "    FactESG.join(DimIndicator,on=\"SeriesCode\", how=\"inner\").drop(DimIndicator[\"SeriesCode\"])\n",
    "    .join(DimCountry,on=\"CountryCode\",how=\"inner\").drop(DimCountry[\"CountryCode\"])\n",
    "    .join(DimCountrySeries, on=\"CountryCode\",how=\"inner\").drop(DimCountrySeries[\"CountryCode\"]).drop(DimCountrySeries[\"SeriesCode\"])\n",
    "    .where((col(\"Region\")==\"Middle East & North Africa\") & (col(\"MainCategory\")==\"Governance\")&(col(\"IndicatorName\")==\"Control of Corruption: Estimate\"))\n",
    ")\n"
   ],
   "metadata": {
    "collapsed": false,
    "ExecuteTime": {
     "end_time": "2024-12-02T08:39:53.675811Z",
     "start_time": "2024-12-02T08:39:53.196405Z"
    }
   },
   "id": "7e34be9c4b212298",
   "execution_count": 26
  },
  {
   "cell_type": "code",
   "outputs": [],
   "source": [
    "RenewableEnergyEurope = RenewableEnergyEurope.toPandas()"
   ],
   "metadata": {
    "collapsed": false,
    "ExecuteTime": {
     "end_time": "2024-12-02T08:40:13.965146Z",
     "start_time": "2024-12-02T08:39:53.679828Z"
    }
   },
   "id": "51a136339bf2b3aa",
   "execution_count": 27
  },
  {
   "cell_type": "code",
   "outputs": [],
   "source": [],
   "metadata": {
    "collapsed": false,
    "ExecuteTime": {
     "end_time": "2024-12-02T08:40:13.971467Z",
     "start_time": "2024-12-02T08:40:13.965146Z"
    }
   },
   "id": "5845669863309ccf",
   "execution_count": 27
  },
  {
   "cell_type": "code",
   "outputs": [],
   "source": [],
   "metadata": {
    "collapsed": false,
    "ExecuteTime": {
     "end_time": "2024-12-02T08:40:13.979432Z",
     "start_time": "2024-12-02T08:40:13.973989Z"
    }
   },
   "id": "badb481adb7a9551",
   "execution_count": 27
  },
  {
   "cell_type": "code",
   "outputs": [],
   "source": [
    "from powerbiclient import Report,QuickVisualize,get_dataset_config, models\n",
    "from powerbiclient.authentication import DeviceCodeLoginAuthentication,InteractiveLoginAuthentication\n",
    "import pandas as pd\n"
   ],
   "metadata": {
    "collapsed": false,
    "ExecuteTime": {
     "end_time": "2024-12-02T08:40:15.121465Z",
     "start_time": "2024-12-02T08:40:13.983457Z"
    }
   },
   "id": "7439f985bcc66466",
   "execution_count": 28
  },
  {
   "cell_type": "code",
   "outputs": [],
   "source": [
    "auth= InteractiveLoginAuthentication()"
   ],
   "metadata": {
    "collapsed": false,
    "is_executing": true
   },
   "id": "a7cc87922db5ab5b",
   "execution_count": null
  },
  {
   "cell_type": "code",
   "outputs": [],
   "source": [
    "PBI_visualize=QuickVisualize(get_dataset_config(RenewableEnergyEurope), auth=auth)"
   ],
   "metadata": {
    "collapsed": false,
    "is_executing": true
   },
   "id": "edf434e9a0dddeba",
   "execution_count": null
  },
  {
   "cell_type": "code",
   "outputs": [],
   "source": [
    "PBI_visualize"
   ],
   "metadata": {
    "collapsed": false,
    "is_executing": true
   },
   "id": "ecfc39ab679daa90",
   "execution_count": null
  }
 ],
 "metadata": {
  "kernelspec": {
   "display_name": "Python 3",
   "language": "python",
   "name": "python3"
  },
  "language_info": {
   "codemirror_mode": {
    "name": "ipython",
    "version": 2
   },
   "file_extension": ".py",
   "mimetype": "text/x-python",
   "name": "python",
   "nbconvert_exporter": "python",
   "pygments_lexer": "ipython2",
   "version": "2.7.6"
  }
 },
 "nbformat": 4,
 "nbformat_minor": 5
}
