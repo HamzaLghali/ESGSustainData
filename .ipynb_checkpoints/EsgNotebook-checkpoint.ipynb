{
 "cells": [
  {
   "cell_type": "code",
   "execution_count": null,
   "id": "initial_id",
   "metadata": {
    "collapsed": true,
    "is_executing": true
   },
   "outputs": [],
   "source": [
    "from pyspark.sql import SparkSession\n",
    "from pyspark.sql.functions import monotonically_increasing_id, rand, when,current_timestamp, to_timestamp,lit, concat_ws, split, size, expr,regexp_replace, sha2,to_date,col\n",
    "\n",
    "#Initialize SparkSession\n",
    "spark = SparkSession.builder \\\n",
    "    .appName(\"PySparkESG\") \\\n",
    "    .getOrCreate()"
   ]
  },
  {
   "cell_type": "markdown",
   "source": [
    "# BRONZE LAYER"
   ],
   "metadata": {
    "collapsed": false
   },
   "id": "5dae6ae849d07ff5"
  },
  {
   "cell_type": "code",
   "outputs": [],
   "source": [
    "countries = spark.read.option(\"header\", \"true\").csv(\"ESG_Data/ESGCountry.csv\").cache()"
   ],
   "metadata": {
    "collapsed": false,
    "ExecuteTime": {
     "end_time": "2024-11-28T15:23:23.754514Z",
     "start_time": "2024-11-28T15:23:15.184263Z"
    }
   },
   "id": "c63912f4d1ee3963",
   "execution_count": 2
  },
  {
   "cell_type": "code",
   "outputs": [],
   "source": [
    "countries_series = spark.read.option(\"header\", \"true\").csv(\"ESG_Data/ESGCountry-series.csv\").cache()"
   ],
   "metadata": {
    "collapsed": false,
    "ExecuteTime": {
     "end_time": "2024-11-28T15:23:24.106492Z",
     "start_time": "2024-11-28T15:23:23.755643Z"
    }
   },
   "id": "7859dd0521eda3a0",
   "execution_count": 3
  },
  {
   "cell_type": "code",
   "outputs": [],
   "source": [
    "esg_data = spark.read.option(\"header\", \"true\").csv(\"ESG_Data/ESGCSV.csv\").cache()"
   ],
   "metadata": {
    "collapsed": false,
    "ExecuteTime": {
     "end_time": "2024-11-28T15:23:24.422200Z",
     "start_time": "2024-11-28T15:23:24.107599Z"
    }
   },
   "id": "adb38b69227e8822",
   "execution_count": 4
  },
  {
   "cell_type": "code",
   "outputs": [],
   "source": [
    "footnote = spark.read.option(\"header\", \"true\").csv(\"ESG_Data/ESGfootnote.csv\").cache()"
   ],
   "metadata": {
    "collapsed": false,
    "ExecuteTime": {
     "end_time": "2024-11-28T15:23:24.645435Z",
     "start_time": "2024-11-28T15:23:24.424389Z"
    }
   },
   "id": "4c34120c57486710",
   "execution_count": 5
  },
  {
   "cell_type": "code",
   "outputs": [],
   "source": [
    "series = spark.read.option(\"header\",\"true\").csv(\"ESG_Data/ESGSeries.csv\").cache()"
   ],
   "metadata": {
    "collapsed": false,
    "ExecuteTime": {
     "end_time": "2024-11-28T15:23:24.902263Z",
     "start_time": "2024-11-28T15:23:24.648032Z"
    }
   },
   "id": "d9237163f3045fb3",
   "execution_count": 6
  },
  {
   "cell_type": "code",
   "outputs": [],
   "source": [
    "series_time = spark.read.option(\"header\",\"true\").csv(\"ESG_Data/ESGSeries-time.csv\").cache()"
   ],
   "metadata": {
    "collapsed": false,
    "ExecuteTime": {
     "end_time": "2024-11-28T15:23:25.126339Z",
     "start_time": "2024-11-28T15:23:24.904517Z"
    }
   },
   "id": "3592eb8111e4197e",
   "execution_count": 7
  },
  {
   "cell_type": "markdown",
   "source": [
    "# SILVER LAYER"
   ],
   "metadata": {
    "collapsed": false
   },
   "id": "804b95cf588a9460"
  },
  {
   "cell_type": "markdown",
   "source": [
    "Countries"
   ],
   "metadata": {
    "collapsed": false
   },
   "id": "107d8369ddb6aec"
  },
  {
   "cell_type": "code",
   "outputs": [],
   "source": [
    "ecacountries=(countries\n",
    "              #.where(col(\"Region\")==\"Europe & Central Asia\")\n",
    "              .select(\"Country Code\",\"Region\",\"Income Group\",\"Special Notes\",\"Table Name\")\n",
    "                .withColumnRenamed(\"Country Code\"\n",
    "                                   ,\"CountryCode\")\n",
    "              .join(countries_series, on= \"CountryCode\").select(countries_series[\"*\"])\n",
    "              )\n",
    "#ecacountriesSeries = countries_series..cache()\n"
   ],
   "metadata": {
    "collapsed": false,
    "is_executing": true
   },
   "id": "a3219ae6f4e8ec04",
   "execution_count": null
  },
  {
   "cell_type": "markdown",
   "source": [
    "all countries info dataframe"
   ],
   "metadata": {
    "collapsed": false
   },
   "id": "3920020c7b6c8a17"
  },
  {
   "cell_type": "code",
   "outputs": [],
   "source": [
    "CleanedCountriesInfo = (\n",
    "    ecacountries\n",
    "    .join(ecacountriesSeries, on=\"CountryCode\", how=\"inner\")  # Ensure the join is explicit\n",
    "    .drop(ecacountriesSeries[\"CountryCode\"])  # Drop duplicate CountryCode from the second DataFrame\n",
    "    .withColumn(\n",
    "        \"Special Notes\",\n",
    "        when(col(\"Special Notes\").isNull(), \"N/A\").otherwise(col(\"Special Notes\"))\n",
    "    )  \n",
    "    .distinct() \n",
    "    .cache()  \n",
    ")\n"
   ],
   "metadata": {
    "collapsed": false,
    "ExecuteTime": {
     "end_time": "2024-11-28T15:23:25.685003Z",
     "start_time": "2024-11-28T15:23:25.456084Z"
    }
   },
   "id": "18c24cdcaac751d0",
   "execution_count": 9
  },
  {
   "cell_type": "markdown",
   "source": [],
   "metadata": {
    "collapsed": false
   },
   "id": "2679f9ab67a694e4"
  },
  {
   "cell_type": "markdown",
   "source": [
    "Series"
   ],
   "metadata": {
    "collapsed": false
   },
   "id": "f616d2a3e491429f"
  },
  {
   "cell_type": "code",
   "outputs": [],
   "source": [
    "\n",
    "CleanedSeriesInfo= (series\n",
    "    .join(footnote, footnote[\"SeriesCode\"]==series[\"Series Code\"], how=\"inner\")\n",
    "              .select(series[\"Series Code\"],series[\"Topic\"],\n",
    "                      series[\"Indicator Name\"],series[\"Source\"],footnote[\"CountryCode\"],footnote[\"Year\"].alias(\"footnoteYear\"),footnote[\"DESCRIPTION\"].alias(\"footnoteDescription\"))\n",
    "    #.where(col(\"Indicator Name\")==\"Renewable energy consumption (% of total final energy consumption)\")\n",
    "    \n",
    ").cache()"
   ],
   "metadata": {
    "collapsed": false,
    "ExecuteTime": {
     "end_time": "2024-11-28T15:23:25.781513Z",
     "start_time": "2024-11-28T15:23:25.687717Z"
    }
   },
   "id": "d5d3848fd515682d",
   "execution_count": 10
  },
  {
   "cell_type": "markdown",
   "source": [
    "Esg Data"
   ],
   "metadata": {
    "collapsed": false
   },
   "id": "3c110cc543cd8a4f"
  },
  {
   "cell_type": "code",
   "outputs": [],
   "source": [
    "#Renewable energy consumption (% of total final energy consumption)\n",
    "esg_data = (\n",
    "    CleanedSeriesInfo.join(esg_data, on=\"Indicator Name\")\n",
    "    )"
   ],
   "metadata": {
    "collapsed": false,
    "ExecuteTime": {
     "end_time": "2024-11-28T15:23:25.824008Z",
     "start_time": "2024-11-28T15:23:25.783315Z"
    }
   },
   "id": "acc4ab4e3d5edf7d",
   "execution_count": 11
  },
  {
   "cell_type": "code",
   "outputs": [],
   "source": [
    "CleanedEsgData = esg_data.selectExpr(\n",
    "    \"`Country Name`\",\n",
    "    \"`Country Code`\",\n",
    "    \"`Indicator Name`\",\n",
    "    \"`Indicator Code`\",\n",
    "    f\"stack({2023 - 1990 + 1}, \" + \n",
    "    \", \".join([f\"'{year}', `{year}`\" for year in range(1990, 2024)]) + \") as (Year, Value)\"\n",
    ")\n",
    "CleanedEsgData = (CleanedEsgData.withColumn(\"Year\", col(\"Year\").cast(\"int\")) \n",
    "                           .withColumn(\"Value\", col(\"Value\").cast(\"float\"))\n",
    "                          .withColumnRenamed(\"Country Code\",\"CountryCode\")\n",
    "                          .withColumnRenamed(\"Country Name\",\"CountryName\")\n",
    "                          .withColumnRenamed(\"Indicator Name\",\"IndicatorName\")\n",
    "                          .withColumnRenamed(\"Indicator Code\",\"IndicatorCode\")\n",
    "                          .withColumnRenamed(\"Series Code\",\"SeriesCode\")\n",
    "                          ).cache()"
   ],
   "metadata": {
    "collapsed": false,
    "ExecuteTime": {
     "end_time": "2024-11-28T15:23:26.160665Z",
     "start_time": "2024-11-28T15:23:25.825717Z"
    }
   },
   "id": "2892fb99073410bf",
   "execution_count": 12
  },
  {
   "cell_type": "code",
   "outputs": [],
   "source": [
    "LastCleanedDf= (CleanedEsgData\n",
    "                .join(CleanedCountriesInfo, on=\"CountryCode\",how=\"inner\")\n",
    "                \n",
    "                )\n",
    "LastCleanedDf.show()"
   ],
   "metadata": {
    "collapsed": false,
    "is_executing": true
   },
   "id": "c321dd73654f566d",
   "execution_count": null
  },
  {
   "cell_type": "markdown",
   "source": [
    "# GOLD LAYER"
   ],
   "metadata": {
    "collapsed": false
   },
   "id": "f0644b6165993a1c"
  },
  {
   "cell_type": "markdown",
   "source": [
    "### I this section i'm going to create a dimensional model of this use case in order to organize my data more"
   ],
   "metadata": {
    "collapsed": false
   },
   "id": "3c13f1a7ffd9a1a"
  },
  {
   "cell_type": "code",
   "outputs": [],
   "source": [
    "CleanedEsgData.show(truncate=False)"
   ],
   "metadata": {
    "collapsed": false,
    "is_executing": true,
    "ExecuteTime": {
     "start_time": "2024-11-28T15:23:26.203808Z"
    }
   },
   "id": "fea3f359e7a7e68b",
   "execution_count": null
  },
  {
   "cell_type": "code",
   "outputs": [],
   "source": [
    "FactMetrics ="
   ],
   "metadata": {
    "collapsed": false,
    "is_executing": true
   },
   "id": "74b2e0caf7b0597c",
   "execution_count": null
  },
  {
   "cell_type": "markdown",
   "source": [
    "Country Dimension"
   ],
   "metadata": {
    "collapsed": false
   },
   "id": "1e9ea0f173f75ba"
  },
  {
   "cell_type": "code",
   "outputs": [],
   "source": [
    "DimCountry = (\n",
    "    \n",
    "    CleanedRenewableEnergy.alias(\"renewable\")\n",
    "    .join(CleanedEca.alias(\"eca\"), on=\"CountryCode\", how=\"inner\")\n",
    "    .select(\n",
    "        col(\"renewable.CountryCode\"),\n",
    "        col(\"renewable.CountryName\"),\n",
    "        col(\"eca.Region\"),\n",
    "        col(\"eca.IncomeGroup\"),\n",
    "        col(\"eca.SpecialNotes\")\n",
    "    ).distinct()\n",
    ")\n",
    "DimCountry.show(truncate=False)"
   ],
   "metadata": {
    "collapsed": false,
    "is_executing": true
   },
   "id": "fd293c1648b79c4a",
   "execution_count": null
  },
  {
   "cell_type": "markdown",
   "source": [
    "SeriesCode (Primary Key)\n",
    "Indicator Name\n",
    "Topic\n",
    "Source\n",
    "Long definition"
   ],
   "metadata": {
    "collapsed": false
   },
   "id": "241ddd746f7a3266"
  },
  {
   "cell_type": "code",
   "outputs": [],
   "source": [
    "DimIndicators = CleanedSeries.select(\"*\")\n",
    "DimIndicators.show()\n",
    "                 "
   ],
   "metadata": {
    "collapsed": false,
    "is_executing": true
   },
   "id": "b361635a02e111a7",
   "execution_count": null
  },
  {
   "cell_type": "code",
   "outputs": [],
   "source": [
    "countries.printSchema()"
   ],
   "metadata": {
    "collapsed": false,
    "is_executing": true
   },
   "id": "6d98ddf994f81176",
   "execution_count": null
  }
 ],
 "metadata": {
  "kernelspec": {
   "display_name": "Python 3",
   "language": "python",
   "name": "python3"
  },
  "language_info": {
   "codemirror_mode": {
    "name": "ipython",
    "version": 2
   },
   "file_extension": ".py",
   "mimetype": "text/x-python",
   "name": "python",
   "nbconvert_exporter": "python",
   "pygments_lexer": "ipython2",
   "version": "2.7.6"
  }
 },
 "nbformat": 4,
 "nbformat_minor": 5
}
